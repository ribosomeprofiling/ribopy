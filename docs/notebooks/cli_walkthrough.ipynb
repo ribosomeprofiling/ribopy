{
 "cells": [
  {
   "cell_type": "markdown",
   "metadata": {},
   "source": [
    "# A Walk-through of RiboPy CLI"
   ]
  },
  {
   "cell_type": "markdown",
   "metadata": {},
   "source": [
    "**Contents:**\n",
    "\n",
    "* [Introduction](#introduction)\n",
    "* [Installation](#installation)\n",
    "* [Getting Started](#getting-started)\n",
    "* [Length Distribution](#length-distribution)\n",
    "* [Metagene Analysis](#metagene-analysis)\n",
    "  - [Aggregating the Output](#a-note-on-aggregating-the-output)\n",
    "* [Region Counts](#region-counts)\n",
    "* [Optional Data](#optional-data)\n",
    "* [Advanced Features](#advanced-features)\n",
    "  - [Region Boundaries](#region-boundaries)\n",
    "  - [Transcript Lengths](#transcript-lengths)\n",
    "  - [File Creation](#file-creation)"
   ]
  },
  {
   "cell_type": "markdown",
   "metadata": {},
   "source": [
    "## Introduction <a name=\"introduction\"></a>\n",
    "\n",
    "[Ribosome Profiling](https://www.nature.com/articles/nrg3645) is a sequencing based method to study protein synthesis transcriptome-wide. Actively translating mRNAs are engaged with ribosomes and protein synthesis rates can be approximated by the number of ribosomes that are translating a given mRNA. Ribosome profiling employs an RNase digestion step to recover fragments of RNA protected by ribosomes which are called **Ribosome Protected Footprints (RPFs)**.\n",
    "\n",
    "Ribosome profiling data analyses involve several quantifications for each transcript. Specifically, the lengths of the RPFs provide valuable biological information (see, for example, [Lareau et al.](https://elifesciences.org/articles/01257) and [Wu et al.](https://www.sciencedirect.com/science/article/pii/S1097276518310633?via%3Dihub)). To facilitate ribosome profiling data analyses as a function of RPF length in a highly efficient manner, we implemented a new data format, called [ribo](https://ribopy.readthedocs.io/en/latest/ribo_file_format.html). Files in ribo format are called **.ribo** files.\n",
    "\n",
    "RiboPy package is an Python interface for .ribo files. The package offers a suite of reading functions for .ribo files, and provides plotting functions that are most often employed in ribosome profiling analyses. Using RiboPy, one can import .ribo files into the Python environment, read ribosome profiling data into pandas data frames and generate essential plots in a few lines of Python code.\n",
    "\n",
    "This document is structured into several sections. First, we give an overview of the Ribo File format and define transcript regions. Second, we provide instructions and requirements for the installation of RiboPy. Third, we describe how to import a .ribo file to the Python environment and demonstrate essential ribosome profiling data analyses in three sections:\n",
    "\n",
    "* [Length Distribution](#length-distribution)\n",
    "* [Metagene Analysis](#metagene-analysis)\n",
    "* [Region Counts](#region-counts)\n",
    "\n",
    "In the \"Optional Data\" section, we explain the three optional types of data, which may exist in a .ribo file.\n",
    "\n",
    "* Metadata: A .ribo file may contain metadata for each experiment and for the .ribo file itself.\n",
    "* Coverage: A .ribo file can keep the nucleotide level transcriptome coverage.\n",
    "* RNA-Seq: A ribosome profiling experiment can be paired with an RNA-Seq experiment to study ribosome occupancy together with transcript abundance.\n",
    "\n",
    "In the last section, we describe some advanced features including generating ribo files and getting region boundaries that define transcript regions.\n",
    "\n",
    "\n",
    "\n",
    "###  .ribo File Format <a name=\"riboformat\"></a>\n",
    "\n",
    ".ribo files are built on an [HDF5](https://www.hdfgroup.org/solutions/hdf5/) architecture and has a predefined internal structure (Figure 1). For a more detailed explanation of the ribo format, we refer to the \n",
    "[readthedocs page of ribo](https://ribopy.readthedocs.io/en/latest/ribo_file_format.html).\n",
    "\n",
    "![Figure 1 ribo File Internal Structure](https://ribopy.readthedocs.io/en/latest/_images/ribo_file_structure.jpg \"Figure 1 ribo File Internal Structure\")\n",
    "<center>Figure 1: ribo File Internal Structure<br></center>\n",
    "\n",
    "While many features are required in .ribo files, quantification from paired RNA-Seq data and nucleotide-level coverage are optional.\n",
    "\n",
    "### Transcript Regions<a name=\"transcript-regions\"></a>\n",
    "\n",
    "The main protein coding region of a transcript is called the coding sequence (CDS). Its boundaries are called transcription start / stop sites. The region consisting of the nucleotides, between the 5’ end of the transcript and the start site, not translated to protein, is called 5’ untranslated region (5’UTR). Similarly, the region having the nucleotides between the stop site and the 3’ end of the transcript, is called 3’ untranslated region (3’UTR). To avoid strings and variable names starting with a number and containing an apostrophe character, we use the names UTR5 and UTR3 instead of 5’UTR and 3’UTR respectively.\n",
    "\n",
    "## Installation <a name=\"installation\"></a>\n",
    "\n",
    "RiboPy requires Python version 3.6 or higher.\n",
    "\n",
    "### Availability<a name=\"availability\"></a>\n",
    "\n",
    "The source code of RiboPy package is available in a [public Github repository](https://github.com/ribosomeprofiling/ribopy).\n",
    "\n",
    "### Pip<a name=\"pip\"></a>\n",
    "\n",
    "RiboPy can be install via pip:\n",
    "\n",
    "``` \n",
    "   pip install ribopy\n",
    "```\n",
    "\n",
    "### Conda<a name=\"conda\"></a>\n",
    "\n",
    "\n",
    "It is recommended to install RiboPy in a separate conda environment. For this, install conda first by following the instructions [here](https://conda.io/projects/conda/en/latest/user-guide/install/index.html).\n",
    "\n",
    "The following commands will download an environment file, called enviroenment.yaml, and install RiboPy inside a conda environmen named *ribo*. \n",
    "\n",
    "```\n",
    "wget https://github.com/ribosomeprofiling/riboflow/blob/master/environment.yaml\n",
    "conda env create -f environment.yml\n",
    "```\n",
    "\n",
    "###  From the Source Code<a name=\"from-the-source-code\"></a>\n",
    "\n",
    "```\n",
    "   pip install git+https://github.com/ribosomeprofiling/ribopy.git\n",
    "```"
   ]
  },
  {
   "cell_type": "markdown",
   "metadata": {},
   "source": [
    "## Getting Started <a name=\"getting-started\"></a>"
   ]
  },
  {
   "cell_type": "markdown",
   "metadata": {},
   "source": [
    "First, we download a sample ribo file."
   ]
  },
  {
   "cell_type": "code",
   "execution_count": 1,
   "metadata": {},
   "outputs": [
    {
     "name": "stdout",
     "output_type": "stream",
     "text": [
      "--2019-12-19 13:29:57--  https://github.com/ribosomeprofiling/ribo_manuscript_supplemental/raw/master/sidrauski_et_al/ribo/without_coverage/all.ribo\n",
      "Resolving github.com (github.com)... 192.30.253.113\n",
      "Connecting to github.com (github.com)|192.30.253.113|:443... connected.\n",
      "HTTP request sent, awaiting response... 302 Found\n",
      "Location: https://raw.githubusercontent.com/ribosomeprofiling/ribo_manuscript_supplemental/master/sidrauski_et_al/ribo/without_coverage/all.ribo [following]\n",
      "--2019-12-19 13:29:57--  https://raw.githubusercontent.com/ribosomeprofiling/ribo_manuscript_supplemental/master/sidrauski_et_al/ribo/without_coverage/all.ribo\n",
      "Resolving raw.githubusercontent.com (raw.githubusercontent.com)... 151.101.48.133\n",
      "Connecting to raw.githubusercontent.com (raw.githubusercontent.com)|151.101.48.133|:443... connected.\n",
      "HTTP request sent, awaiting response... 200 OK\n",
      "Length: 44518345 (42M) [application/octet-stream]\n",
      "Saving to: ‘all.ribo.10’\n",
      "\n",
      "all.ribo.10         100%[===================>]  42.46M   100MB/s    in 0.4s    \n",
      "\n",
      "2019-12-19 13:29:58 (100 MB/s) - ‘all.ribo.10’ saved [44518345/44518345]\n",
      "\n"
     ]
    }
   ],
   "source": [
    "! wget https://github.com/ribosomeprofiling/ribo_manuscript_supplemental/raw/master/sidrauski_et_al/ribo/without_coverage/all.ribo"
   ]
  },
  {
   "cell_type": "markdown",
   "metadata": {},
   "source": [
    "Let's see the available commands in ribopy and make sure that it is installed."
   ]
  },
  {
   "cell_type": "code",
   "execution_count": 2,
   "metadata": {},
   "outputs": [
    {
     "name": "stdout",
     "output_type": "stream",
     "text": [
      "Usage: ribopy [OPTIONS] COMMAND [ARGS]...\r\n",
      "\r\n",
      "Options:\r\n",
      "  --debug / --no-debug\r\n",
      "  --help                Show this message and exit.\r\n",
      "\r\n",
      "Commands:\r\n",
      "  create    Creates a ribo file from a given reference, annotation and...\r\n",
      "  dump      Dump selected parts of ribo files to particular formats\r\n",
      "  info      Displays a summary information about the given ribo file\r\n",
      "  merge     Merges a set of given ribo files into one ribo file.\r\n",
      "  metadata  Display, set or delete user-defined metadata If no name is...\r\n",
      "  plot      Generate some basic plots for ribo files.\r\n",
      "  rnaseq    Display, set or delete RNA-Seq data\r\n"
     ]
    }
   ],
   "source": [
    "! ribopy --help"
   ]
  },
  {
   "cell_type": "markdown",
   "metadata": {},
   "source": [
    "We can see the documentation for each command using the `--help` argument. For example:"
   ]
  },
  {
   "cell_type": "code",
   "execution_count": 3,
   "metadata": {},
   "outputs": [
    {
     "name": "stdout",
     "output_type": "stream",
     "text": [
      "Usage: ribopy plot [OPTIONS] COMMAND [ARGS]...\r\n",
      "\r\n",
      "  Generate some basic plots for ribo files.\r\n",
      "\r\n",
      "Options:\r\n",
      "  --help  Show this message and exit.\r\n",
      "\r\n",
      "Commands:\r\n",
      "  lengthdist    Plots the distribution of the ribosome footprint lengths.\r\n",
      "  metagene      Generates metagene plots.\r\n",
      "  regioncounts  Generates barplots of the percentages of the UTR5, CDS and...\r\n"
     ]
    }
   ],
   "source": [
    "! ribopy plot --help"
   ]
  },
  {
   "cell_type": "code",
   "execution_count": 4,
   "metadata": {},
   "outputs": [
    {
     "name": "stdout",
     "output_type": "stream",
     "text": [
      "Usage: ribopy plot lengthdist [OPTIONS] RIBO [EXPERIMENTS]...\r\n",
      "\r\n",
      "  Plots the distribution of the ribosome footprint lengths.\r\n",
      "\r\n",
      "  The x-axis is the length of the protected ribosome footprints. The y-axis\r\n",
      "  is the raw or normalized frequecies.\r\n",
      "\r\n",
      "  At most 7 experiments can be provided for a single plot.\r\n",
      "\r\n",
      "  Pdf and png output formats are supported. If \"dump\" option is provided,\r\n",
      "  the data is written  to the provided file path.\r\n",
      "\r\n",
      "  If the frequencies are normalized using the \"--normalize\" option,  the\r\n",
      "  y-axis becomes the percentages of the frequencies.\r\n",
      "\r\n",
      "   \r\n",
      "  Examples:  \r\n",
      "   1) Plot CDS length distribution of exp_1 and exp_2 \r\n",
      "   and normalize the frequencies.\r\n",
      "\r\n",
      "     .. code:: bash\r\n",
      "\r\n",
      "             ribopy plot lengthdist  \\               -o multiple_dist.pdf \\\r\n",
      "             -r CDS --normalize \\               project.ribo exp_1 exp_2\r\n",
      "\r\n",
      "   2)Plot only main_exp and write the data to out.csv.\r\n",
      "\r\n",
      "     .. code:: bash\r\n",
      "\r\n",
      "             ribopy plot lengthdist \\                -d out.csv \\\r\n",
      "             -o main_exp.pdf \\                -r CDS \\\r\n",
      "             project.ribo  main_exp\r\n",
      "\r\n",
      "Options:\r\n",
      "  -r, --region [UTR5|UTR5_junction|CDS|UTR3_junction|UTR3]\r\n",
      "                                  Region type.  [required]\r\n",
      "  -o, --out TEXT                  Output file in bed format  [required]\r\n",
      "  -t, --title TEXT                Plot title.\r\n",
      "  --normalize                     Normalize by total metagene site coverage\r\n",
      "  -d, --dump PATH                 Dump the data to csv file\r\n",
      "  --help                          Show this message and exit.\r\n"
     ]
    }
   ],
   "source": [
    "! ribopy plot lengthdist --help"
   ]
  },
  {
   "cell_type": "markdown",
   "metadata": {},
   "source": [
    "We can inquire about the contents of the .ribo file by calling the info command."
   ]
  },
  {
   "cell_type": "code",
   "execution_count": 5,
   "metadata": {},
   "outputs": [
    {
     "name": "stdout",
     "output_type": "stream",
     "text": [
      "Ribo File Info:\r\n",
      "---------------\r\n",
      "Ribo File Version : 1.0\r\n",
      "RiboPy Version    : 0.0.0\r\n",
      "Creation Time     : 2019-11-03 13:31:16\r\n",
      "Reference         : appris-v1\r\n",
      "Min Read Length   : 15\r\n",
      "Max Read Length   : 40\r\n",
      "Metagene Radius   : 50\r\n",
      "Left Span         : 35\r\n",
      "Right Span        : 10\r\n",
      "\r\n",
      "Experiments:\r\n",
      "------------ \r\n",
      "Name          Reads  Coverage  RNA-Seq  Metadata\r\n",
      "GSM1606107  7243990         *        *         *\r\n",
      "GSM1606108  8175863         *        *         *\r\n"
     ]
    }
   ],
   "source": [
    "! ribopy info all.ribo"
   ]
  },
  {
   "cell_type": "markdown",
   "metadata": {},
   "source": [
    "The above output provides information about the individual experiments that are contained in the given ribo object. In addition, this output displays some of the parameters, that were used in generating the .ribo file, such as left span, right span and metagene radius.\n",
    "\n",
    "For a detailed explanation of the contents of this output, we refer to the [online documentation](https://ribopy.readthedocs.io/en/latest/ribo_file_format.html) of the ribo format.\n",
    "\n",
    "In what follows, we demonstrate a typical exploration of ribosome profiling data. We start with the length distribution of RPFs."
   ]
  },
  {
   "cell_type": "markdown",
   "metadata": {},
   "source": [
    "## Length Distribution <a name=\"length-distribution\"></a>\n",
    "\n",
    "Several experimental decisions including the choice of RNase can have a significant impact on the RPF length distribution. In addition, this information is generally informative about the quality of the ribosome profiling data.\n",
    "\n",
    "We use the command `plot ` to generate the distribution of the reads mapping to a specific region. This method has also a boolean argument called normalize. When normalize is False, the y-axis displays the total number of reads mapping to the specified region. When fraction is True, the y-axis displays the quotient of the same number as above divided by the total number of reads reported in the experiment.\n",
    "\n",
    "The following command saves the length distribution plot of the RPFs mapping to the coding region in a pdf file.\n",
    "\n",
    "Note that the help page of `ribopy plot lengthdist` tells us that the last arguments must be experiment names."
   ]
  },
  {
   "cell_type": "code",
   "execution_count": 6,
   "metadata": {},
   "outputs": [],
   "source": [
    "! ribopy plot lengthdist -r CDS -o length_dist.pdf all.ribo GSM1606107 GSM1606108"
   ]
  },
  {
   "cell_type": "code",
   "execution_count": 7,
   "metadata": {},
   "outputs": [
    {
     "name": "stdout",
     "output_type": "stream",
     "text": [
      "length_dist.pdf\r\n"
     ]
    }
   ],
   "source": [
    "! ls length_dist.pdf"
   ]
  },
  {
   "cell_type": "markdown",
   "metadata": {},
   "source": [
    "## Metagene Analysis <a name=\"metagene-analysis\"></a>\n",
    "\n",
    "A common quality control step in ribosome profiling analyses is the inspection of the pileup of sequencing reads with respect to the start and stop site of annotated coding regions. Given that ribosomes are predominantly translating annotated coding regions, these plots are informative about the enrichment at the boundaries of coding regions and also provide information regarding the periodicity of aligned sequencing reads. This type of plot is called a metagene plot as the reads are aggregated around translation start and stop sites across all transcripts.\n",
    "\n",
    "The parameter “metagene radius” is the number of nucleotides surrounding the start/stop site and hence defines the region of analysis. For each position, read counts are aggregated across transcripts. This cumulative read coverage (y-axis) is plotted as a function of the position relative to the start/stop site (x-axis).\n",
    "\n",
    "We can plot the ribosome occupancy around the start or stop sites using the command `plot metagene`. The following command produces a pdf file conatining the metagene plot at the stop site for the experiments GSM1606107 and GSM1606108. The values on the y-axis are the raw read counts."
   ]
  },
  {
   "cell_type": "code",
   "execution_count": 8,
   "metadata": {},
   "outputs": [],
   "source": [
    "! ribopy plot metagene -s stop \\\n",
    "                       -o metagene_stop.pdf \\\n",
    "                       --lowerlength 15 --upperlength 40 \\\n",
    "                       all.ribo \\\n",
    "                       GSM1606107 GSM1606108"
   ]
  },
  {
   "cell_type": "markdown",
   "metadata": {},
   "source": [
    "To better compare these experiments, we can normalize the coverage by `--normalize`. "
   ]
  },
  {
   "cell_type": "code",
   "execution_count": 9,
   "metadata": {},
   "outputs": [],
   "source": [
    "! ribopy plot metagene -s stop \\\n",
    "                       -o metagene_stop_normalized.pdf \\\n",
    "                       --lowerlength 15 --upperlength 40 \\\n",
    "                       --normalize \\\n",
    "                       all.ribo \\\n",
    "                       GSM1606107 GSM1606108"
   ]
  },
  {
   "cell_type": "markdown",
   "metadata": {},
   "source": [
    "Users can get the data generating the above graphs by using the `--dump` argument. The command below stores the metagene coverage, generating the plot, in the file `metagene_stop.csv`."
   ]
  },
  {
   "cell_type": "code",
   "execution_count": 10,
   "metadata": {},
   "outputs": [],
   "source": [
    "! ribopy plot metagene -s stop \\\n",
    "                       -o metagene_stop.pdf \\\n",
    "                       --lowerlength 15 --upperlength 40 \\\n",
    "                       --dump metagene_stop.csv \\\n",
    "                       all.ribo \\\n",
    "                       GSM1606107 GSM1606108"
   ]
  },
  {
   "cell_type": "markdown",
   "metadata": {},
   "source": [
    "One can simply get the metagene data using the command `ribopy dump `  "
   ]
  },
  {
   "cell_type": "code",
   "execution_count": 11,
   "metadata": {},
   "outputs": [],
   "source": [
    "! ribopy dump metagene -o metagene_dump.csv \\\n",
    "                       -s stop \\\n",
    "                       --lowerlength 15 --upperlength 40 \\\n",
    "                       all.ribo"
   ]
  },
  {
   "cell_type": "markdown",
   "metadata": {},
   "source": [
    "To get the metagene data for each transcript, we provide `--nosumtrans` parameter. We can also sum the results accross the given range of RPF lengths by providing `--sumlengths`. The following command will take longer than the previous ones because the amount of data being output is substantially larger. Also note that the file extension \"gz\" will be recognized and the csv file will be compressed in gzip. "
   ]
  },
  {
   "cell_type": "code",
   "execution_count": 12,
   "metadata": {},
   "outputs": [],
   "source": [
    "! ribopy dump metagene -o metagene_dump_per_transcript.csv.gz \\\n",
    "                       -s stop \\\n",
    "                       --nosumtrans \\\n",
    "                       --sumlengths \\\n",
    "                       --lowerlength 15 --upperlength 40 \\\n",
    "                       all.ribo"
   ]
  },
  {
   "cell_type": "markdown",
   "metadata": {},
   "source": [
    "### A Note on Aggregating the Output <a name=\"a-note-on-aggregating-the-output\"></a>\n",
    "\n",
    "n the above command, we used two parameters `--nosumtrans` and `--sumlengths`. These parameters determine how data is aggregated. More precisely, if `--nosumtrans` is provided, then the data for each transcript will be included in the output, instead of aggregating data accros the transcripts. If `--sumlengths` is provided, the data will be aggregated accros a given range of lengths.  "
   ]
  },
  {
   "cell_type": "markdown",
   "metadata": {},
   "source": [
    "## Region Counts <a name=\"region-counts\"></a>\n",
    "\n",
    "Another important aspect of ribosome profiling data is the number of reads mapping to the different regions of the transcripts, namely, 5’UTR, CDS and 3’UTR. A large number of reads mapping to UTR5 or UTR3 regions might indicate a poor quality ribosome profiling data since ribosomes occupy CDS. Furthermore, the distribution of reads across these regions can be associated with the RNase choice in the experiment. For example in Miettinen and Bjorklund, it was shown that ribosome profiling experiments are dependent on digestion conditions.\n",
    "\n",
    "Before going into the commands, we briefly explain how region counts are computed, introduce our naming convention and define the regions used in ribo format.\n",
    "\n",
    "For each read mapped to the transcriptome, we take the first nucleotide on the 5’ end of the read and determine the corresponding region. After doing this for all reads, the accumulated values give us the region counts.\n",
    "\n",
    "As mentioned earlier, a messenger RNA transcript is partitioned into three regions: 5’UTR, CDS and 3’UTR. For technical reasons, we rename 5’UTR as UTR5 and 3’UTR as UTR3.\n",
    "\n",
    "It is well-known that ribosomes pause, or move slower, around start and stop sites. As a result, we observe peaks around start and stop sites in metagene plots. This behavior of ribosome makes it harder to perform certain analyses such as coverage, translation efficiency, periodicity and uniformity analysis with accuracy. To tackle this problem, we introduce two additional regions called UTR5 junction and UTR3 junction, and modify the definition of the regions UTR5, CDS and UTR3 as shown in Figure 2. This way, we keep regions around start and stop sites separate when doing such analyses.\n",
    "\n",
    "![](https://ribopy.readthedocs.io/en/latest/_images/region_definition.jpg)\n",
    "<center>Figure 2: REgion Definitions</center>\n",
    "\n",
    "More precisely, first, we fix two integers: **left span (l)** and **right span (r)** and define the junction regions as follows.\n",
    "\n",
    "   * **UTR5 junction**: This region consists of **l** nucleotides to the left of the **start** site , and **r** nucleotides to the right of the **start** site.\n",
    "\n",
    "   * **UTR3 junction**: This region consists of **l** nucleotides to the left of the **stop** site , and **r** nucleotides to the right of the **stop** site.\n",
    "\n",
    "Using these junction regions, we re-define the conventional regions as follows.\n",
    "\n",
    "   * **UTR5**: This region is the set of nucleotides between the 5’ end of the transcript and the UTR5 junction.\n",
    "\n",
    "   * **CDS**: This region is the set of nucleotides between the UTR5 junction and UTR3 junction.\n",
    "\n",
    "   * **UTR3**: This region is the set of nucleotides between the UTR3 junction and the 3’ end of the transcript.\n"
   ]
  },
  {
   "cell_type": "markdown",
   "metadata": {},
   "source": [
    "The following code will plot the number of sequencing reads whose 5’ ends map to the UTR5, CDS, and UTR3 as a stacked bar plot. To facilitate comparison between experiments, the percentage of the regions counts are plotted and the percentage of reads mapping to CDS are printed on the plot."
   ]
  },
  {
   "cell_type": "code",
   "execution_count": 13,
   "metadata": {},
   "outputs": [],
   "source": [
    "! ribopy plot regioncounts -o region_counts_bar.pdf \\\n",
    "                           --lowerlength 15 --upperlength 40 \\\n",
    "                           all.ribo \\\n",
    "                           GSM1606107 GSM1606108"
   ]
  },
  {
   "cell_type": "markdown",
   "metadata": {},
   "source": [
    "The following command outputs the number of reads, mapping to the coding sequence, summed accros lengths, in a compressed csv file. "
   ]
  },
  {
   "cell_type": "code",
   "execution_count": 14,
   "metadata": {},
   "outputs": [],
   "source": [
    "! ribopy dump region-counts -o region_counts.csv.gz \\\n",
    "                            -r CDS \\\n",
    "                            --lowerlength 15 --upperlength 40 \\\n",
    "                            --sumlengths \\\n",
    "                            all.ribo"
   ]
  },
  {
   "cell_type": "markdown",
   "metadata": {},
   "source": [
    "## Optional Data <a name=\"optional-data\"></a>\n",
    "\n",
    "Length distribution, metagene coverage and region counts are essential to ribosome profiling data analysis and these data exist in every .ribo file. However, for certain types of analysis, additional data might be required. For example, periodicity and uniformity analyses require the knowledge of number of reads at each nucleotide position, aka coverage data. Another analysis, called translation efficiency, can be done when transcript abundance information is present. For these types of analyses, .ribo files offer two types of optional data: coverage data and RNA-Seq data.\n",
    "\n",
    "It might be helpful to have data explaining how ribosome profiling data is collected, prepared and processed. For this, .ribo files has an additional field, called metadata, to store such data for each experiment and for the .ribo file itself.\n",
    "\n",
    "Optional data don’t necessarily exist in every .ribo file. Their existence can be checked as follows"
   ]
  },
  {
   "cell_type": "code",
   "execution_count": 15,
   "metadata": {},
   "outputs": [
    {
     "name": "stdout",
     "output_type": "stream",
     "text": [
      "Ribo File Info:\r\n",
      "---------------\r\n",
      "Ribo File Version : 1.0\r\n",
      "RiboPy Version    : 0.0.0\r\n",
      "Creation Time     : 2019-11-03 13:31:16\r\n",
      "Reference         : appris-v1\r\n",
      "Min Read Length   : 15\r\n",
      "Max Read Length   : 40\r\n",
      "Metagene Radius   : 50\r\n",
      "Left Span         : 35\r\n",
      "Right Span        : 10\r\n",
      "\r\n",
      "Experiments:\r\n",
      "------------ \r\n",
      "Name          Reads  Coverage  RNA-Seq  Metadata\r\n",
      "GSM1606107  7243990         *        *         *\r\n",
      "GSM1606108  8175863         *        *         *\r\n"
     ]
    }
   ],
   "source": [
    "! ribopy info all.ribo"
   ]
  },
  {
   "cell_type": "markdown",
   "metadata": {},
   "source": [
    "In the above output, we see that both of the experiments have all optional data as the values in the columns ‘Coverage’, ‘RNA-Seq’ and ‘Metadata’ are “\\*”. An absence of “\\*” would indicate indicate the absence of the corresponding data."
   ]
  },
  {
   "cell_type": "markdown",
   "metadata": {},
   "source": [
    "### Metadata <a name=\"metadata\"></a>\n",
    "\n",
    "A .ribo file can contain metadata for each individual experiment as well as the ribo file itself. If we want to see the metadata of a given experiment, then we can use the `ribopy metadata get` command and specify the experiment of interest.\n",
    "\n",
    "To view the metadata of the .ribo file, we use the `ribopy metadata get` command without any arguments."
   ]
  },
  {
   "cell_type": "code",
   "execution_count": 16,
   "metadata": {},
   "outputs": [
    {
     "name": "stdout",
     "output_type": "stream",
     "text": [
      "alignment_arguments:\r\n",
      "  filter: -L 15 --no-unal --norc\r\n",
      "  genome: --no-unal -k 1\r\n",
      "  transcriptome: -L 15 --norc --no-unal\r\n",
      "clip_arguments: -u 1 -a CTGTAGGCACCATCAAT --overlap=4 --trimmed-only --maximum-length=40\r\n",
      "  --minimum-length=15 --quality-cutoff=28\r\n",
      "deduplicate: true\r\n",
      "do_check_file_existence: true\r\n",
      "do_fastqc: true\r\n",
      "do_metadata: true\r\n",
      "do_rnaseq: true\r\n",
      "input:\r\n",
      "  fastq:\r\n",
      "    GSM1606107:\r\n",
      "    - GSM1606107/SRR1795425.fastq.gz\r\n",
      "    - GSM1606107/SRR1795426.fastq.gz\r\n",
      "    GSM1606108:\r\n",
      "    - GSM1606108/SRR1795427.fastq.gz\r\n",
      "    - GSM1606108/SRR1795428.fastq.gz\r\n",
      "  fastq_base: ./fastq/ribosome_profiling\r\n",
      "  metadata:\r\n",
      "    base: ./metadata\r\n",
      "    files:\r\n",
      "      GSM1606107: GSM1606107.yml\r\n",
      "      GSM1606108: GSM1606108.yml\r\n",
      "  reference:\r\n",
      "    filter: ./rf_sample_data/filter/human_rtRNA*\r\n",
      "    regions: ./rf_sample_data/annotation/appris_human_24_01_2019_actual_regions.bed\r\n",
      "    transcript_lengths: ./rf_sample_data/annotation/appris_human_24_01_2019_selected.lengths.tsv\r\n",
      "    transcriptome: ./rf_sample_data/transcriptome/appris_human_24_01_2019_selected*\r\n",
      "  root_meta: ./ingolia.yaml\r\n",
      "mapping_quality_cutoff: 2\r\n",
      "output:\r\n",
      "  individual_lane_directory: individual\r\n",
      "  intermediates:\r\n",
      "    alignment_ribo: alignment_ribo\r\n",
      "    bam_to_bed: bam_to_bed\r\n",
      "    base: intermediates\r\n",
      "    clip: clip\r\n",
      "    filter: filter\r\n",
      "    genome_alignment: genome_alignment\r\n",
      "    log: log\r\n",
      "    quality_filter: quality_filter\r\n",
      "    transcriptome_alignment: transcriptome_alignment\r\n",
      "  merged_lane_directory: merged\r\n",
      "  output:\r\n",
      "    base: output\r\n",
      "    fastqc: fastqc\r\n",
      "    log: log\r\n",
      "    ribo: ribo\r\n",
      "ribo:\r\n",
      "  coverage: true\r\n",
      "  left_span: 35\r\n",
      "  metagene_radius: 50\r\n",
      "  read_length:\r\n",
      "    max: 40\r\n",
      "    min: 15\r\n",
      "  ref_name: appris-v1\r\n",
      "  right_span: 10\r\n",
      "rnaseq:\r\n",
      "  bt2_argumments: -L 15  --no-unal\r\n",
      "  clip_arguments: -u 1 --quality-cutoff=28\r\n",
      "  deduplicate: false\r\n",
      "  fastq:\r\n",
      "    GSM1606107:\r\n",
      "    - GSM1606099/SRR1795409.fastq.gz\r\n",
      "    - GSM1606099/SRR1795410.fastq.gz\r\n",
      "    GSM1606108:\r\n",
      "    - GSM1606100/SRR1795411.fastq.gz\r\n",
      "    - GSM1606100/SRR1795412.fastq.gz\r\n",
      "  fastq_base: ./fastq/rna_seq\r\n",
      "  filter_arguments: -L 15 --no-unal\r\n",
      "\r\n"
     ]
    }
   ],
   "source": [
    "! ribopy metadata get all.ribo"
   ]
  },
  {
   "cell_type": "markdown",
   "metadata": {},
   "source": [
    "To retrieve metadata from one of the experiments, we provide the parameter `--name`."
   ]
  },
  {
   "cell_type": "code",
   "execution_count": 17,
   "metadata": {},
   "outputs": [
    {
     "name": "stdout",
     "output_type": "stream",
     "text": [
      "3padapter: CTGTAGGCACCATCAAT\r\n",
      "GEO: GSM1606108\r\n",
      "Lab: Ingolia\r\n",
      "Notes: One nuc. clipped from fivep\r\n",
      "SRA: SRR1795427,SRR1795428\r\n",
      "cell-line: HEK 293\r\n",
      "link: https://elifesciences.org/articles/05033\r\n",
      "\r\n"
     ]
    }
   ],
   "source": [
    "! ribopy metadata get --name GSM1606108 all.ribo"
   ]
  },
  {
   "cell_type": "markdown",
   "metadata": {},
   "source": [
    "### Coverage <a name=\"coverage\"></a>\n",
    "\n",
    "For all quantifications, we first map the sequencing reads to the transcriptome and use the 5’ most nucleotide of each mapped read. Coverage data is the total number of reads whose 5’ends map to each nucleotide position in the transcriptome.\n",
    "\n",
    "Within a .ribo file, the coverage data, if exists, is typically the largest data set in terms of storage, and it accounts for a substantial portion of a .ribo file’s size, when present. The get_coverage function returns the coverage information for one specific transcript at a time.\n",
    "\n",
    "Since coverage data is an optional field of .ribo files, it is helpful to keep track of the experiment names with coverage data. Once the list is obtained, the experiments of interest can easily be chosen and extracted.\n",
    "\n",
    "In the example below, we output the coverage data of the experiment GSM1606108 in a compressed bedgraph file. The coverage data coming from lengths, from 28 to 32 are summed up in the resulting file."
   ]
  },
  {
   "cell_type": "code",
   "execution_count": 18,
   "metadata": {},
   "outputs": [],
   "source": [
    "! ribopy dump coverage -o coverage_GSM1606108.bg.gz \\\n",
    "                       --format bg \\\n",
    "                       --lowerlength 28 --upperlength 32 \\\n",
    "                       all.ribo GSM1606108 "
   ]
  },
  {
   "cell_type": "markdown",
   "metadata": {},
   "source": [
    "### RNA-Seq <a name=\"rna-seq\"></a>\n",
    "\n",
    "Most ribosome profiling experiments generate matched RNA-Seq data to enable analyses of translation efficiency. We provide the ability to store RNA-Seq quantification in .ribo files to facilitate these analyses. We store RNA-seq quantifications in a manner that parallel the region counts for the ribosome profiling experiment. Specifically, the RNA-Seq data sets contain information on the relative abundance of each transcript at each of the following transcript regions.\n",
    "\n",
    "    * 5’ Untranslated Region (UTR5)\n",
    "\n",
    "    * 5’ Untranslated Region Junction (UTR5_junction)\n",
    "\n",
    "    * Coding Sequence (CDS)\n",
    "\n",
    "    * 3’ Untranslated Region Junction (UTR3_junction)\n",
    "\n",
    "    * 3’ Untranslated Region (UTR3)\n",
    "\n",
    "The following command createz a compressed tsv file containing the RNA-Seq data for the experiment GSM1606108 with all the region counts above."
   ]
  },
  {
   "cell_type": "code",
   "execution_count": 19,
   "metadata": {},
   "outputs": [],
   "source": [
    "! ribopy rnaseq get --name GSM1606108 \\\n",
    "                    --out rnaseq_GSM1606108.tsv.gz \\\n",
    "                    all.ribo "
   ]
  },
  {
   "cell_type": "markdown",
   "metadata": {},
   "source": [
    "## Advanced Features <a name=\"advanced-features\"></a>\n",
    "\n",
    "### Region Boundaries <a name=\"region-boundaries\"></a>\n",
    "\n",
    "A .ribo file contains the region boundary information. This information can be useful to compare CDS lengths of different transcripts or perform region specific analysis using coverage data.\n",
    "\n",
    "The following command outputs the region boundaries, in bed format, for the reference used in the ribo file."
   ]
  },
  {
   "cell_type": "code",
   "execution_count": 20,
   "metadata": {},
   "outputs": [],
   "source": [
    "! ribopy dump  annotation all.ribo > region_boundaries.bed"
   ]
  },
  {
   "cell_type": "markdown",
   "metadata": {},
   "source": [
    "### Transcript Lengths <a name=\"transcript-lengths\"></a>\n",
    "\n",
    "The length of each transcript can be obtained, in a tsv file, using the command `ribopy dump reference-lengths`. "
   ]
  },
  {
   "cell_type": "code",
   "execution_count": 21,
   "metadata": {},
   "outputs": [],
   "source": [
    "! ribopy dump  reference-lengths all.ribo > transcript_lengths.tsv"
   ]
  },
  {
   "cell_type": "markdown",
   "metadata": {},
   "source": [
    "### File Creation <a name=\"file-creation\"></a>\n",
    "\n",
    "Using the CLI, .ribo files can be generated from the alignment files. Esentially three files are required.\n",
    "\n",
    "  * **Alignment File**: In bed or bam format\n",
    "  * **Transcript Lengths**: In tab separated format\n",
    "  * **Region Boundaries**: In bed format\n",
    "  \n",
    "Below we give an example of .ribo file creation. First we generate the three input files mentioned above.  "
   ]
  },
  {
   "cell_type": "code",
   "execution_count": 22,
   "metadata": {},
   "outputs": [],
   "source": [
    "TRANSCRIPT_LENGTHS=\\\n",
    "\"GAPDH\\t20\\nVEGFA\\t22\\nMYC\\t17\"\n",
    "\n",
    "\n",
    "TRANSCRIPT_ANNOTATION=\\\n",
    "\"\"\"GAPDH    0   5  UTR5    0   +\n",
    "GAPDH   5  15    CDS 0   +\n",
    "GAPDH   15  20    UTR3 0   +\n",
    "VEGFA    0   4  UTR5    0   +\n",
    "VEGFA   4  16    CDS 0   +\n",
    "VEGFA   16  22    UTR3 0   +\n",
    "MYC    0   3  UTR5    0   +\n",
    "MYC   3  10    CDS 0   +\n",
    "MYC   10  17    UTR3 0   +\"\"\"\n",
    "\n",
    "READS = \\\n",
    "\"\"\"MYC 10  12  len_2_UTR3_junc_1 0   +\n",
    "MYC 10  12  len_2_UTR3_junc_2 0   +\n",
    "MYC 0  3  len_3_UTR5_junc_1 0   +\n",
    "MYC 6  9  len_3_CDS_1 0   +\n",
    "MYC 10  13  len_3_UTR3_junc_1 0   +\n",
    "MYC 6  10  len_4_CDS_1 0   +\n",
    "MYC 6  10  len_4_CDS_2 0   +\n",
    "MYC 10  14  len_4_UTR3_junc_1 0   +\n",
    "MYC 10  14  len_4_UTR3_junc_2 0   +\n",
    "MYC 10  14  len_4_UTR3_junc_3 0   +\n",
    "MYC 0  5  len_5_UTR5_junc_1 0   +\n",
    "MYC 10  15  len_UTR3_junc_1 0   +\n",
    "MYC 10  15  len_UTR3_junc_2 0   +\n",
    "MYC 10  15  len_UTR3_junc_3 0   +\n",
    "MYC 10  15  len_UTR3_junc_4 0   +\n",
    "MYC 10  15  len_UTR3_junc_5 0   +\n",
    "MYC 10  15  len_UTR3_junc_6 0   +\n",
    "MYC 10  15  len_UTR3_junc_7 0   +\"\"\"\n",
    "\n",
    "with open(\"t_lengths.tsv\", \"w\") as t_length_stream, \\\n",
    "     open(\"t_annotation.bed\", \"w\") as t_annotation_stream, \\\n",
    "     open(\"reads.bed\", \"w\") as reads_stream:\n",
    "    \n",
    "    print(TRANSCRIPT_LENGTHS,    file = t_length_stream)\n",
    "    print(TRANSCRIPT_ANNOTATION, file = t_annotation_stream )\n",
    "    print(READS                , file = reads_stream)\n"
   ]
  },
  {
   "cell_type": "markdown",
   "metadata": {},
   "source": [
    "Next, we us the command `ribopy create` to generate a ribo file named `sample.ribo`."
   ]
  },
  {
   "cell_type": "code",
   "execution_count": 23,
   "metadata": {},
   "outputs": [
    {
     "name": "stdout",
     "output_type": "stream",
     "text": [
      "creating the ribo file sample.ribo...\n",
      "Done.\n"
     ]
    }
   ],
   "source": [
    "! ribopy create -a reads.bed \\\n",
    "                --name sample_exp \\\n",
    "                --reference sample_ref \\\n",
    "                --annotation t_annotation.bed \\\n",
    "                --lengths t_lengths.tsv \\\n",
    "                --radius 2 \\\n",
    "                -l 1 -r 1 \\\n",
    "                --lengthmin 1 --lengthmax 6 \\\n",
    "                sample.ribo\n"
   ]
  },
  {
   "cell_type": "markdown",
   "metadata": {},
   "source": [
    "We can easily verify the file creation using the command `ribopy info`."
   ]
  },
  {
   "cell_type": "code",
   "execution_count": 24,
   "metadata": {},
   "outputs": [
    {
     "name": "stdout",
     "output_type": "stream",
     "text": [
      "Ribo File Info:\r\n",
      "---------------\r\n",
      "Ribo File Version : 1.0\r\n",
      "RiboPy Version    : 0.0.0\r\n",
      "Creation Time     : 2019-12-19 13:32:52\r\n",
      "Reference         : sample_ref\r\n",
      "Min Read Length   : 1\r\n",
      "Max Read Length   : 6\r\n",
      "Metagene Radius   : 2\r\n",
      "Left Span         : 1\r\n",
      "Right Span        : 1\r\n",
      "\r\n",
      "Library:\r\n",
      "-------- \r\n",
      "Name        Reads  Coverage  RNA-Seq  Metadata\r\n",
      "sample_exp     18         *                   \r\n"
     ]
    }
   ],
   "source": [
    "! ribopy info sample.ribo"
   ]
  },
  {
   "cell_type": "markdown",
   "metadata": {},
   "source": [
    "Additionally, one can provide RNA-Seq data or metadata when creating the .ribo files. For details, see the the help page: `ribopy create --help`.\n",
    "\n",
    "As another note, when we dump the annotation or the transcript lengths, those files can be used to generate other ribo files. Below we present an example."
   ]
  },
  {
   "cell_type": "code",
   "execution_count": 25,
   "metadata": {},
   "outputs": [],
   "source": [
    "! ribopy dump annotation sample.ribo > mock_annot.bed"
   ]
  },
  {
   "cell_type": "code",
   "execution_count": 26,
   "metadata": {},
   "outputs": [],
   "source": [
    "! ribopy dump reference-lengths sample.ribo > mock_tlen.tsv"
   ]
  },
  {
   "cell_type": "code",
   "execution_count": 27,
   "metadata": {},
   "outputs": [
    {
     "name": "stdout",
     "output_type": "stream",
     "text": [
      "creating the ribo file sample_2.ribo...\n",
      "Done.\n"
     ]
    }
   ],
   "source": [
    "! ribopy create -a reads.bed \\\n",
    "                --name sample_exp \\\n",
    "                --reference sample_ref \\\n",
    "                --annotation mock_annot.bed \\\n",
    "                --lengths mock_tlen.tsv \\\n",
    "                --radius 2 \\\n",
    "                -l 1 -r 1 \\\n",
    "                --lengthmin 1 --lengthmax 6 \\\n",
    "                sample_2.ribo"
   ]
  },
  {
   "cell_type": "code",
   "execution_count": 28,
   "metadata": {},
   "outputs": [
    {
     "name": "stdout",
     "output_type": "stream",
     "text": [
      "Ribo File Info:\r\n",
      "---------------\r\n",
      "Ribo File Version : 1.0\r\n",
      "RiboPy Version    : 0.0.0\r\n",
      "Creation Time     : 2019-12-19 13:32:56\r\n",
      "Reference         : sample_ref\r\n",
      "Min Read Length   : 1\r\n",
      "Max Read Length   : 6\r\n",
      "Metagene Radius   : 2\r\n",
      "Left Span         : 1\r\n",
      "Right Span        : 1\r\n",
      "\r\n",
      "Library:\r\n",
      "-------- \r\n",
      "Name        Reads  Coverage  RNA-Seq  Metadata\r\n",
      "sample_exp     18         *                   \r\n"
     ]
    }
   ],
   "source": [
    "! ribopy info sample_2.ribo"
   ]
  }
 ],
 "metadata": {
  "kernelspec": {
   "display_name": "Python 3",
   "language": "python",
   "name": "python3"
  },
  "language_info": {
   "codemirror_mode": {
    "name": "ipython",
    "version": 3
   },
   "file_extension": ".py",
   "mimetype": "text/x-python",
   "name": "python",
   "nbconvert_exporter": "python",
   "pygments_lexer": "ipython3",
   "version": "3.6.7"
  }
 },
 "nbformat": 4,
 "nbformat_minor": 2
}
